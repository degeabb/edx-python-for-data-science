{
 "cells": [
  {
   "cell_type": "code",
   "execution_count": 1,
   "metadata": {},
   "outputs": [],
   "source": [
    "import pandas as pd\n",
    "import numpy as np\n",
    "import random\n",
    "import matplotlib.pyplot as plt"
   ]
  },
  {
   "cell_type": "code",
   "execution_count": 2,
   "metadata": {},
   "outputs": [
    {
     "data": {
      "text/plain": [
       "(5656458, 6)"
      ]
     },
     "execution_count": 2,
     "metadata": {},
     "output_type": "execute_result"
    }
   ],
   "source": [
    "data = pd.read_csv('./Indicators.csv')\n",
    "data.shape"
   ]
  },
  {
   "cell_type": "code",
   "execution_count": 3,
   "metadata": {},
   "outputs": [
    {
     "data": {
      "text/html": [
       "<div>\n",
       "<style scoped>\n",
       "    .dataframe tbody tr th:only-of-type {\n",
       "        vertical-align: middle;\n",
       "    }\n",
       "\n",
       "    .dataframe tbody tr th {\n",
       "        vertical-align: top;\n",
       "    }\n",
       "\n",
       "    .dataframe thead th {\n",
       "        text-align: right;\n",
       "    }\n",
       "</style>\n",
       "<table border=\"1\" class=\"dataframe\">\n",
       "  <thead>\n",
       "    <tr style=\"text-align: right;\">\n",
       "      <th></th>\n",
       "      <th>CountryName</th>\n",
       "      <th>CountryCode</th>\n",
       "      <th>IndicatorName</th>\n",
       "      <th>IndicatorCode</th>\n",
       "      <th>Year</th>\n",
       "      <th>Value</th>\n",
       "    </tr>\n",
       "  </thead>\n",
       "  <tbody>\n",
       "    <tr>\n",
       "      <th>0</th>\n",
       "      <td>Arab World</td>\n",
       "      <td>ARB</td>\n",
       "      <td>Adolescent fertility rate (births per 1,000 wo...</td>\n",
       "      <td>SP.ADO.TFRT</td>\n",
       "      <td>1960</td>\n",
       "      <td>1.335609e+02</td>\n",
       "    </tr>\n",
       "    <tr>\n",
       "      <th>1</th>\n",
       "      <td>Arab World</td>\n",
       "      <td>ARB</td>\n",
       "      <td>Age dependency ratio (% of working-age populat...</td>\n",
       "      <td>SP.POP.DPND</td>\n",
       "      <td>1960</td>\n",
       "      <td>8.779760e+01</td>\n",
       "    </tr>\n",
       "    <tr>\n",
       "      <th>2</th>\n",
       "      <td>Arab World</td>\n",
       "      <td>ARB</td>\n",
       "      <td>Age dependency ratio, old (% of working-age po...</td>\n",
       "      <td>SP.POP.DPND.OL</td>\n",
       "      <td>1960</td>\n",
       "      <td>6.634579e+00</td>\n",
       "    </tr>\n",
       "    <tr>\n",
       "      <th>3</th>\n",
       "      <td>Arab World</td>\n",
       "      <td>ARB</td>\n",
       "      <td>Age dependency ratio, young (% of working-age ...</td>\n",
       "      <td>SP.POP.DPND.YG</td>\n",
       "      <td>1960</td>\n",
       "      <td>8.102333e+01</td>\n",
       "    </tr>\n",
       "    <tr>\n",
       "      <th>4</th>\n",
       "      <td>Arab World</td>\n",
       "      <td>ARB</td>\n",
       "      <td>Arms exports (SIPRI trend indicator values)</td>\n",
       "      <td>MS.MIL.XPRT.KD</td>\n",
       "      <td>1960</td>\n",
       "      <td>3.000000e+06</td>\n",
       "    </tr>\n",
       "    <tr>\n",
       "      <th>5</th>\n",
       "      <td>Arab World</td>\n",
       "      <td>ARB</td>\n",
       "      <td>Arms imports (SIPRI trend indicator values)</td>\n",
       "      <td>MS.MIL.MPRT.KD</td>\n",
       "      <td>1960</td>\n",
       "      <td>5.380000e+08</td>\n",
       "    </tr>\n",
       "    <tr>\n",
       "      <th>6</th>\n",
       "      <td>Arab World</td>\n",
       "      <td>ARB</td>\n",
       "      <td>Birth rate, crude (per 1,000 people)</td>\n",
       "      <td>SP.DYN.CBRT.IN</td>\n",
       "      <td>1960</td>\n",
       "      <td>4.769789e+01</td>\n",
       "    </tr>\n",
       "    <tr>\n",
       "      <th>7</th>\n",
       "      <td>Arab World</td>\n",
       "      <td>ARB</td>\n",
       "      <td>CO2 emissions (kt)</td>\n",
       "      <td>EN.ATM.CO2E.KT</td>\n",
       "      <td>1960</td>\n",
       "      <td>5.956399e+04</td>\n",
       "    </tr>\n",
       "    <tr>\n",
       "      <th>8</th>\n",
       "      <td>Arab World</td>\n",
       "      <td>ARB</td>\n",
       "      <td>CO2 emissions (metric tons per capita)</td>\n",
       "      <td>EN.ATM.CO2E.PC</td>\n",
       "      <td>1960</td>\n",
       "      <td>6.439635e-01</td>\n",
       "    </tr>\n",
       "    <tr>\n",
       "      <th>9</th>\n",
       "      <td>Arab World</td>\n",
       "      <td>ARB</td>\n",
       "      <td>CO2 emissions from gaseous fuel consumption (%...</td>\n",
       "      <td>EN.ATM.CO2E.GF.ZS</td>\n",
       "      <td>1960</td>\n",
       "      <td>5.041292e+00</td>\n",
       "    </tr>\n",
       "  </tbody>\n",
       "</table>\n",
       "</div>"
      ],
      "text/plain": [
       "  CountryName CountryCode                                      IndicatorName  \\\n",
       "0  Arab World         ARB  Adolescent fertility rate (births per 1,000 wo...   \n",
       "1  Arab World         ARB  Age dependency ratio (% of working-age populat...   \n",
       "2  Arab World         ARB  Age dependency ratio, old (% of working-age po...   \n",
       "3  Arab World         ARB  Age dependency ratio, young (% of working-age ...   \n",
       "4  Arab World         ARB        Arms exports (SIPRI trend indicator values)   \n",
       "5  Arab World         ARB        Arms imports (SIPRI trend indicator values)   \n",
       "6  Arab World         ARB               Birth rate, crude (per 1,000 people)   \n",
       "7  Arab World         ARB                                 CO2 emissions (kt)   \n",
       "8  Arab World         ARB             CO2 emissions (metric tons per capita)   \n",
       "9  Arab World         ARB  CO2 emissions from gaseous fuel consumption (%...   \n",
       "\n",
       "       IndicatorCode  Year         Value  \n",
       "0        SP.ADO.TFRT  1960  1.335609e+02  \n",
       "1        SP.POP.DPND  1960  8.779760e+01  \n",
       "2     SP.POP.DPND.OL  1960  6.634579e+00  \n",
       "3     SP.POP.DPND.YG  1960  8.102333e+01  \n",
       "4     MS.MIL.XPRT.KD  1960  3.000000e+06  \n",
       "5     MS.MIL.MPRT.KD  1960  5.380000e+08  \n",
       "6     SP.DYN.CBRT.IN  1960  4.769789e+01  \n",
       "7     EN.ATM.CO2E.KT  1960  5.956399e+04  \n",
       "8     EN.ATM.CO2E.PC  1960  6.439635e-01  \n",
       "9  EN.ATM.CO2E.GF.ZS  1960  5.041292e+00  "
      ]
     },
     "execution_count": 3,
     "metadata": {},
     "output_type": "execute_result"
    }
   ],
   "source": [
    "data.head(10)"
   ]
  },
  {
   "cell_type": "markdown",
   "metadata": {},
   "source": [
    "### How many UNIQUE country names are there ?"
   ]
  },
  {
   "cell_type": "code",
   "execution_count": 4,
   "metadata": {
    "scrolled": true
   },
   "outputs": [
    {
     "data": {
      "text/plain": [
       "247"
      ]
     },
     "execution_count": 4,
     "metadata": {},
     "output_type": "execute_result"
    }
   ],
   "source": [
    "countries = data['CountryName'].unique().tolist()\n",
    "len(countries)"
   ]
  },
  {
   "cell_type": "markdown",
   "metadata": {},
   "source": [
    "### Are there same number of country codes ?"
   ]
  },
  {
   "cell_type": "code",
   "execution_count": 5,
   "metadata": {},
   "outputs": [
    {
     "data": {
      "text/plain": [
       "247"
      ]
     },
     "execution_count": 5,
     "metadata": {},
     "output_type": "execute_result"
    }
   ],
   "source": [
    "# How many unique country codes are there ? (should be the same #)\n",
    "countryCodes = data['CountryCode'].unique().tolist()\n",
    "len(countryCodes)"
   ]
  },
  {
   "cell_type": "markdown",
   "metadata": {},
   "source": [
    "### Are there many indicators or few ?"
   ]
  },
  {
   "cell_type": "code",
   "execution_count": 6,
   "metadata": {
    "scrolled": true
   },
   "outputs": [
    {
     "data": {
      "text/plain": [
       "1344"
      ]
     },
     "execution_count": 6,
     "metadata": {},
     "output_type": "execute_result"
    }
   ],
   "source": [
    "# How many unique indicators are there ? (should be the same #)\n",
    "indicators = data['IndicatorName'].unique().tolist()\n",
    "len(indicators)"
   ]
  },
  {
   "cell_type": "markdown",
   "metadata": {},
   "source": [
    "### Examine the indicators to find patent, and education related"
   ]
  },
  {
   "cell_type": "code",
   "execution_count": 7,
   "metadata": {},
   "outputs": [
    {
     "data": {
      "text/plain": [
       "['Patent applications, nonresidents', 'Patent applications, residents']"
      ]
     },
     "execution_count": 7,
     "metadata": {},
     "output_type": "execute_result"
    }
   ],
   "source": [
    "patent_list =[]\n",
    "for i in indicators:\n",
    "    if 'patent' in i.lower():\n",
    "        patent_list.append(i)\n",
    "patent_list"
   ]
  },
  {
   "cell_type": "code",
   "execution_count": 8,
   "metadata": {},
   "outputs": [
    {
     "data": {
      "text/plain": [
       "['Adjusted savings: education expenditure (% of GNI)',\n",
       " 'Enrolment in primary education, both sexes (number)',\n",
       " 'Enrolment in secondary education, both sexes (number)',\n",
       " 'Percentage of enrolment in primary education in private institutions (%)',\n",
       " 'Percentage of repeaters in primary education, all grades, both sexes (%)',\n",
       " 'Percentage of repeaters in primary education, all grades, female (%)',\n",
       " 'Percentage of repeaters in primary education, all grades, male (%)',\n",
       " 'Percentage of students in primary education who are female (%)',\n",
       " 'Percentage of students in secondary education who are female (%)',\n",
       " 'Percentage of students in secondary general education who are female (%)',\n",
       " 'Percentage of students in secondary vocational education who are female (%)',\n",
       " 'Percentage of teachers in primary education who are female (%)',\n",
       " 'Percentage of teachers in secondary education who are female (%)',\n",
       " 'Pupil-teacher ratio in primary education (headcount basis)',\n",
       " 'Pupil-teacher ratio in secondary education (headcount basis)',\n",
       " 'Survival rate to the last grade of primary education, both sexes (%)',\n",
       " 'Teachers in primary education, both sexes (number)',\n",
       " 'Teachers in secondary education, both sexes (number)',\n",
       " 'Teachers in secondary education, female (number)',\n",
       " 'Gross intake ratio to Grade 1 of primary education, both sexes (%)',\n",
       " 'Primary to secondary general education transition rate, both sexes (%)',\n",
       " 'Percentage of teachers in tertiary education who are female (%)',\n",
       " 'Gross intake ratio to Grade 1 of primary education, female (%)',\n",
       " 'Gross intake ratio to Grade 1 of primary education, male (%)',\n",
       " 'Survival rate to the last grade of primary education, female (%)',\n",
       " 'Survival rate to the last grade of primary education, male (%)',\n",
       " 'Percentage of repeaters in secondary general education, all grades, both sexes (%)',\n",
       " 'Percentage of repeaters in secondary general education, all grades, female (%)',\n",
       " 'Percentage of repeaters in secondary general education, all grades, male (%)',\n",
       " 'Primary to secondary general education transition rate, female (%)',\n",
       " 'Primary to secondary general education transition rate, male (%)',\n",
       " 'Adjusted savings: education expenditure (current US$)',\n",
       " 'Official entrance age to lower secondary education (years)',\n",
       " 'Official entrance age to primary education (years)',\n",
       " 'Theoretical duration of primary education (years)',\n",
       " 'Theoretical duration of secondary education (years)',\n",
       " 'Government expenditure on education as % of GDP (%)',\n",
       " 'Survival rate to Grade 5 of primary education, both sexes (%)',\n",
       " 'Survival rate to Grade 5 of primary education, female (%)',\n",
       " 'Survival rate to Grade 5 of primary education, male (%)',\n",
       " 'Expenditure on primary as % of government expenditure on education (%)',\n",
       " 'Expenditure on secondary as % of government expenditure on education (%)',\n",
       " 'Expenditure on tertiary as % of government expenditure on education (%)',\n",
       " 'Unemployment with primary education (% of total unemployment)',\n",
       " 'Unemployment with primary education, female (% of female unemployment)',\n",
       " 'Unemployment with primary education, male (% of male unemployment)',\n",
       " 'Unemployment with secondary education (% of total unemployment)',\n",
       " 'Unemployment with secondary education, female (% of female unemployment)',\n",
       " 'Unemployment with secondary education, male (% of male unemployment)',\n",
       " 'Unemployment with tertiary education (% of total unemployment)',\n",
       " 'Unemployment with tertiary education, female (% of female unemployment)',\n",
       " 'Unemployment with tertiary education, male (% of male unemployment)',\n",
       " 'Labor force with primary education (% of total)',\n",
       " 'Labor force with primary education, female (% of female labor force)',\n",
       " 'Labor force with primary education, male (% of male labor force)',\n",
       " 'Labor force with secondary education (% of total)',\n",
       " 'Labor force with secondary education, female (% of female labor force)',\n",
       " 'Labor force with secondary education, male (% of male labor force)',\n",
       " 'Labor force with tertiary education (% of total)',\n",
       " 'Labor force with tertiary education, female (% of female labor force)',\n",
       " 'Labor force with tertiary education, male (% of male labor force)',\n",
       " 'Expenditure on education as % of total government expenditure (%)',\n",
       " 'Percentage of enrolment in secondary education in private institutions (%)',\n",
       " 'Net intake rate to Grade 1 of primary education, both sexes (%)',\n",
       " 'Net intake rate to Grade 1 of primary education, female (%)',\n",
       " 'Net intake rate to Grade 1 of primary education, male (%)',\n",
       " 'Percentage of teachers in primary education who are trained, both sexes (%)',\n",
       " 'Percentage of female teachers in primary education who are trained, female (%)',\n",
       " 'Percentage of male teachers in primary education who are trained, male (%)',\n",
       " 'All education staff compensation, primary (% of total expenditure in primary public institutions)',\n",
       " 'All education staff compensation, secondary (% of total expenditure in secondary public institutions)',\n",
       " 'All education staff compensation, tertiary (% of total expenditure in tertiary public institutions)',\n",
       " 'All education staff compensation, total (% of total expenditure in public institutions)',\n",
       " 'Current education expenditure, primary (% of total expenditure in primary public institutions)',\n",
       " 'Current education expenditure, secondary (% of total expenditure in secondary public institutions)',\n",
       " 'Current education expenditure, tertiary (% of total expenditure in tertiary public institutions)',\n",
       " 'Current education expenditure, total (% of total expenditure in public institutions)',\n",
       " 'Share of youth not in education, employment, or training, female (% of female youth population)',\n",
       " 'Share of youth not in education, employment, or training, male (% of male youth population)',\n",
       " 'Share of youth not in education, employment, or training, total (% of youth population)']"
      ]
     },
     "execution_count": 8,
     "metadata": {},
     "output_type": "execute_result"
    }
   ],
   "source": [
    "education_list =[]\n",
    "for i in indicators:\n",
    "    if 'education' in i.lower():\n",
    "        education_list.append(i)\n",
    "education_list"
   ]
  },
  {
   "cell_type": "markdown",
   "metadata": {},
   "source": [
    "### We will use the top 5 countires for patent applications, 2013"
   ]
  },
  {
   "cell_type": "markdown",
   "metadata": {},
   "source": [
    "### Find the name of them in our data"
   ]
  },
  {
   "cell_type": "code",
   "execution_count": 10,
   "metadata": {},
   "outputs": [],
   "source": [
    "code_list = ['CHN', 'USA', 'JPN', 'KOR', 'DEU']"
   ]
  },
  {
   "cell_type": "markdown",
   "metadata": {},
   "source": [
    "### How many years of data do we have ?"
   ]
  },
  {
   "cell_type": "code",
   "execution_count": 11,
   "metadata": {},
   "outputs": [
    {
     "data": {
      "text/plain": [
       "56"
      ]
     },
     "execution_count": 11,
     "metadata": {},
     "output_type": "execute_result"
    }
   ],
   "source": [
    "# How many years of data do we have ?\n",
    "years = data['Year'].unique().tolist()\n",
    "len(years)"
   ]
  },
  {
   "cell_type": "markdown",
   "metadata": {},
   "source": [
    "### What's the range of years?"
   ]
  },
  {
   "cell_type": "code",
   "execution_count": 12,
   "metadata": {
    "scrolled": true
   },
   "outputs": [
    {
     "name": "stdout",
     "output_type": "stream",
     "text": [
      "1960  to  2015\n"
     ]
    }
   ],
   "source": [
    "print(min(years),\" to \",max(years))"
   ]
  },
  {
   "cell_type": "markdown",
   "metadata": {},
   "source": [
    "###  Plot the number of patent applications against years for 5 countries"
   ]
  },
  {
   "cell_type": "code",
   "execution_count": 13,
   "metadata": {},
   "outputs": [],
   "source": [
    "# select Patent applications, residents for China\n",
    "hist_indicator = 'Patent applications, residents'\n",
    "hist_country = 'CHN'\n",
    "\n",
    "mask1 = data['IndicatorName'].str.contains(hist_indicator) \n",
    "mask2 = data['CountryCode'].str.contains(hist_country)\n",
    "\n",
    "# stage is just those indicators matching the USA for country code and CO2 emissions over time.\n",
    "stage_CHN = data[mask1 & mask2]"
   ]
  },
  {
   "cell_type": "code",
   "execution_count": 14,
   "metadata": {
    "scrolled": true
   },
   "outputs": [
    {
     "data": {
      "image/png": "[encoded data removed]",
      "text/plain": [
       "<Figure size 432x288 with 1 Axes>"
      ]
     },
     "metadata": {
      "needs_background": "light"
     },
     "output_type": "display_data"
    }
   ],
   "source": [
    "plt.plot(stage_CHN['Year'],stage_CHN['Value'])\n",
    "\n",
    "plt.xlabel('Year')\n",
    "plt.ylabel(stage_CHN['IndicatorName'].iloc[0])\n",
    "\n",
    "plt.title('Patent applications, residents in CHN')\n",
    "\n",
    "plt.show()"
   ]
  },
  {
   "cell_type": "code",
   "execution_count": 15,
   "metadata": {},
   "outputs": [],
   "source": [
    "# select Patent applications, residents for USA\n",
    "hist_indicator = 'Patent applications, residents'\n",
    "hist_country = 'USA'\n",
    "\n",
    "mask1 = data['IndicatorName'].str.contains(hist_indicator) \n",
    "mask2 = data['CountryCode'].str.contains(hist_country)\n",
    "\n",
    "# stage is just those indicators matching the USA for country code and CO2 emissions over time.\n",
    "stage_USA = data[mask1 & mask2]"
   ]
  },
  {
   "cell_type": "code",
   "execution_count": 16,
   "metadata": {},
   "outputs": [
    {
     "data": {
      "image/png": "[encoded data removed]",
      "text/plain": [
       "<Figure size 432x288 with 1 Axes>"
      ]
     },
     "metadata": {
      "needs_background": "light"
     },
     "output_type": "display_data"
    }
   ],
   "source": [
    "plt.plot(stage_USA['Year'],stage_USA['Value'])\n",
    "\n",
    "plt.xlabel('Year')\n",
    "plt.ylabel(stage_USA['IndicatorName'].iloc[0])\n",
    "\n",
    "plt.title('Patent applications, residents in USA')\n",
    "\n",
    "plt.show()"
   ]
  },
  {
   "cell_type": "code",
   "execution_count": 17,
   "metadata": {},
   "outputs": [],
   "source": [
    "# select Patent applications, residents for DEU\n",
    "hist_indicator = 'Patent applications, residents'\n",
    "hist_country = 'DEU'\n",
    "\n",
    "mask1 = data['IndicatorName'].str.contains(hist_indicator) \n",
    "mask2 = data['CountryCode'].str.contains(hist_country)\n",
    "\n",
    "# stage is just those indicators matching the USA for country code and CO2 emissions over time.\n",
    "stage_DEU = data[mask1 & mask2]"
   ]
  },
  {
   "cell_type": "code",
   "execution_count": 18,
   "metadata": {},
   "outputs": [
    {
     "data": {
      "image/png": "[encoded data removed]",
      "text/plain": [
       "<Figure size 432x288 with 1 Axes>"
      ]
     },
     "metadata": {
      "needs_background": "light"
     },
     "output_type": "display_data"
    }
   ],
   "source": [
    "plt.plot(stage_DEU['Year'],stage_DEU['Value'])\n",
    "\n",
    "plt.xlabel('Year')\n",
    "plt.ylabel(stage_DEU['IndicatorName'].iloc[0])\n",
    "\n",
    "plt.title('Patent applications, residents in DEU')\n",
    "\n",
    "plt.show()"
   ]
  },
  {
   "cell_type": "code",
   "execution_count": 19,
   "metadata": {},
   "outputs": [],
   "source": [
    "# select Patent applications, residents for JPN\n",
    "hist_indicator = 'Patent applications, residents'\n",
    "hist_country = 'JPN'\n",
    "\n",
    "mask1 = data['IndicatorName'].str.contains(hist_indicator) \n",
    "mask2 = data['CountryCode'].str.contains(hist_country)\n",
    "\n",
    "# stage is just those indicators matching the USA for country code and CO2 emissions over time.\n",
    "stage_JPN = data[mask1 & mask2]"
   ]
  },
  {
   "cell_type": "code",
   "execution_count": 20,
   "metadata": {},
   "outputs": [
    {
     "data": {
      "image/png": "[encoded data removed]",
      "text/plain": [
       "<Figure size 432x288 with 1 Axes>"
      ]
     },
     "metadata": {
      "needs_background": "light"
     },
     "output_type": "display_data"
    }
   ],
   "source": [
    "plt.plot(stage_JPN['Year'],stage_JPN['Value'])\n",
    "\n",
    "plt.xlabel('Year')\n",
    "plt.ylabel(stage_JPN['IndicatorName'].iloc[0])\n",
    "\n",
    "plt.title('Patent applications, residents in JPN')\n",
    "\n",
    "plt.show()"
   ]
  },
  {
   "cell_type": "code",
   "execution_count": 21,
   "metadata": {},
   "outputs": [],
   "source": [
    "# select Patent applications, residents for KOR\n",
    "hist_indicator = 'Patent applications, residents'\n",
    "hist_country = 'KOR'\n",
    "\n",
    "mask1 = data['IndicatorName'].str.contains(hist_indicator) \n",
    "mask2 = data['CountryCode'].str.contains(hist_country)\n",
    "\n",
    "# stage is just those indicators matching the USA for country code and CO2 emissions over time.\n",
    "stage_KOR = data[mask1 & mask2]"
   ]
  },
  {
   "cell_type": "code",
   "execution_count": 22,
   "metadata": {},
   "outputs": [
    {
     "data": {
      "image/png": "[encoded data removed]",
      "text/plain": [
       "<Figure size 432x288 with 1 Axes>"
      ]
     },
     "metadata": {
      "needs_background": "light"
     },
     "output_type": "display_data"
    }
   ],
   "source": [
    "plt.plot(stage_KOR['Year'],stage_KOR['Value'])\n",
    "\n",
    "plt.xlabel('Year')\n",
    "plt.ylabel(stage_KOR['IndicatorName'].iloc[0])\n",
    "\n",
    "plt.title('Patent applications, residents in KOR')\n",
    "\n",
    "plt.show()\n"
   ]
  },
  {
   "cell_type": "markdown",
   "metadata": {},
   "source": [
    "### Plot the Adjusted savings: education expenditure by year for 5 countries"
   ]
  },
  {
   "cell_type": "code",
   "execution_count": 23,
   "metadata": {},
   "outputs": [],
   "source": [
    "# select Adjusted savings: education expenditure current US$ for the China\n",
    "hist_indicator = 'Adjusted savings: education expenditure \\(current'\n",
    "hist_country = 'CHN'\n",
    "\n",
    "mask3= data['IndicatorName'].str.contains(hist_indicator) \n",
    "mask4= data['CountryCode'].str.contains(hist_country)\n",
    "\n",
    "# stage is just those indicators matching the USA for country code and CO2 emissions over time.\n",
    "stage2_CHN = data[mask3 & mask4]"
   ]
  },
  {
   "cell_type": "code",
   "execution_count": 24,
   "metadata": {
    "scrolled": false
   },
   "outputs": [
    {
     "data": {
      "image/png": "[encoded data removed]",
      "text/plain": [
       "<Figure size 432x288 with 1 Axes>"
      ]
     },
     "metadata": {
      "needs_background": "light"
     },
     "output_type": "display_data"
    }
   ],
   "source": [
    "plt.plot(stage2_CHN['Year'],stage2_CHN['Value'])\n",
    "\n",
    "plt.xlabel('Year')\n",
    "plt.ylabel(stage2_CHN['IndicatorName'].iloc[0])\n",
    "\n",
    "plt.title('Education Expenditure in CHN')\n",
    "\n",
    "plt.show()"
   ]
  },
  {
   "cell_type": "code",
   "execution_count": 25,
   "metadata": {},
   "outputs": [],
   "source": [
    "# select Adjusted savings: education expenditure current US$ for the USA\n",
    "hist_indicator = 'Adjusted savings: education expenditure \\(current'\n",
    "hist_country = 'USA'\n",
    "\n",
    "mask3= data['IndicatorName'].str.contains(hist_indicator) \n",
    "mask4= data['CountryCode'].str.contains(hist_country)\n",
    "\n",
    "# stage is just those indicators matching the USA for country code and CO2 emissions over time.\n",
    "stage2_USA = data[mask3 & mask4]"
   ]
  },
  {
   "cell_type": "code",
   "execution_count": 26,
   "metadata": {},
   "outputs": [
    {
     "data": {
      "image/png": "[encoded data removed]",
      "text/plain": [
       "<Figure size 432x288 with 1 Axes>"
      ]
     },
     "metadata": {
      "needs_background": "light"
     },
     "output_type": "display_data"
    }
   ],
   "source": [
    "plt.plot(stage2_USA['Year'],stage2_USA['Value'])\n",
    "\n",
    "plt.xlabel('Year')\n",
    "plt.ylabel(stage2_USA['IndicatorName'].iloc[0])\n",
    "\n",
    "plt.title('Education Expenditure in USA')\n",
    "\n",
    "plt.show()"
   ]
  },
  {
   "cell_type": "code",
   "execution_count": 27,
   "metadata": {},
   "outputs": [],
   "source": [
    "# select Adjusted savings: education expenditure current US$ for the DEU\n",
    "hist_indicator = 'Adjusted savings: education expenditure \\(current'\n",
    "hist_country = 'DEU'\n",
    "\n",
    "mask3= data['IndicatorName'].str.contains(hist_indicator) \n",
    "mask4= data['CountryCode'].str.contains(hist_country)\n",
    "\n",
    "# stage is just those indicators matching the DEU for country code and CO2 emissions over time.\n",
    "stage2_DEU = data[mask3 & mask4]"
   ]
  },
  {
   "cell_type": "code",
   "execution_count": 28,
   "metadata": {},
   "outputs": [
    {
     "data": {
      "image/png": "[encoded data removed]",
      "text/plain": [
       "<Figure size 432x288 with 1 Axes>"
      ]
     },
     "metadata": {
      "needs_background": "light"
     },
     "output_type": "display_data"
    }
   ],
   "source": [
    "plt.plot(stage2_DEU['Year'],stage2_DEU['Value'])\n",
    "\n",
    "plt.xlabel('Year')\n",
    "plt.ylabel(stage2_DEU['IndicatorName'].iloc[0])\n",
    "\n",
    "plt.title('Education Expenditure in DEU')\n",
    "\n",
    "plt.show()"
   ]
  },
  {
   "cell_type": "code",
   "execution_count": 29,
   "metadata": {},
   "outputs": [],
   "source": [
    "# select Adjusted savings: education expenditure current US$ for the JPN\n",
    "hist_indicator = 'Adjusted savings: education expenditure \\(current'\n",
    "hist_country = 'JPN'\n",
    "\n",
    "mask3= data['IndicatorName'].str.contains(hist_indicator) \n",
    "mask4= data['CountryCode'].str.contains(hist_country)\n",
    "\n",
    "# stage is just those indicators matching the JPN for country code and CO2 emissions over time.\n",
    "stage2_JPN = data[mask3 & mask4]"
   ]
  },
  {
   "cell_type": "code",
   "execution_count": 30,
   "metadata": {},
   "outputs": [
    {
     "data": {
      "image/png": "[encoded data removed]",
      "text/plain": [
       "<Figure size 432x288 with 1 Axes>"
      ]
     },
     "metadata": {
      "needs_background": "light"
     },
     "output_type": "display_data"
    }
   ],
   "source": [
    "plt.plot(stage2_JPN['Year'],stage2_JPN['Value'])\n",
    "\n",
    "plt.xlabel('Year')\n",
    "plt.ylabel(stage2_JPN['IndicatorName'].iloc[0])\n",
    "\n",
    "plt.title('Education Expenditure in JPN')\n",
    "\n",
    "plt.show()"
   ]
  },
  {
   "cell_type": "code",
   "execution_count": 31,
   "metadata": {},
   "outputs": [],
   "source": [
    "# select Adjusted savings: education expenditure current US$ for the KOR\n",
    "hist_indicator = 'Adjusted savings: education expenditure \\(current'\n",
    "hist_country = 'KOR'\n",
    "\n",
    "mask3= data['IndicatorName'].str.contains(hist_indicator) \n",
    "mask4= data['CountryCode'].str.contains(hist_country)\n",
    "\n",
    "# stage is just those indicators matching the KOR for country code and CO2 emissions over time.\n",
    "stage2_KOR = data[mask3 & mask4]"
   ]
  },
  {
   "cell_type": "code",
   "execution_count": 32,
   "metadata": {},
   "outputs": [
    {
     "data": {
      "image/png": "[encoded data removed]",
      "text/plain": [
       "<Figure size 432x288 with 1 Axes>"
      ]
     },
     "metadata": {
      "needs_background": "light"
     },
     "output_type": "display_data"
    }
   ],
   "source": [
    "plt.plot(stage2_KOR['Year'],stage2_KOR['Value'])\n",
    "\n",
    "plt.xlabel('Year')\n",
    "plt.ylabel(stage2_KOR['IndicatorName'].iloc[0])\n",
    "\n",
    "plt.title('Education Expenditure in KOR')\n",
    "\n",
    "plt.show()"
   ]
  },
  {
   "cell_type": "markdown",
   "metadata": {},
   "source": [
    "### How do other countries spend in the latest year avaliable (2013)??"
   ]
  },
  {
   "cell_type": "code",
   "execution_count": 33,
   "metadata": {},
   "outputs": [
    {
     "data": {
      "text/html": [
       "<div>\n",
       "<style scoped>\n",
       "    .dataframe tbody tr th:only-of-type {\n",
       "        vertical-align: middle;\n",
       "    }\n",
       "\n",
       "    .dataframe tbody tr th {\n",
       "        vertical-align: top;\n",
       "    }\n",
       "\n",
       "    .dataframe thead th {\n",
       "        text-align: right;\n",
       "    }\n",
       "</style>\n",
       "<table border=\"1\" class=\"dataframe\">\n",
       "  <thead>\n",
       "    <tr style=\"text-align: right;\">\n",
       "      <th></th>\n",
       "      <th>CountryName</th>\n",
       "      <th>CountryCode</th>\n",
       "      <th>IndicatorName</th>\n",
       "      <th>IndicatorCode</th>\n",
       "      <th>Year</th>\n",
       "      <th>Value</th>\n",
       "    </tr>\n",
       "  </thead>\n",
       "  <tbody>\n",
       "    <tr>\n",
       "      <th>5396982</th>\n",
       "      <td>Afghanistan</td>\n",
       "      <td>AFG</td>\n",
       "      <td>Adjusted savings: education expenditure (curre...</td>\n",
       "      <td>NY.ADJ.AEDU.CD</td>\n",
       "      <td>2013</td>\n",
       "      <td>3.272301e+08</td>\n",
       "    </tr>\n",
       "    <tr>\n",
       "      <th>5397749</th>\n",
       "      <td>Albania</td>\n",
       "      <td>ALB</td>\n",
       "      <td>Adjusted savings: education expenditure (curre...</td>\n",
       "      <td>NY.ADJ.AEDU.CD</td>\n",
       "      <td>2013</td>\n",
       "      <td>3.679888e+08</td>\n",
       "    </tr>\n",
       "    <tr>\n",
       "      <th>5398644</th>\n",
       "      <td>Algeria</td>\n",
       "      <td>DZA</td>\n",
       "      <td>Adjusted savings: education expenditure (curre...</td>\n",
       "      <td>NY.ADJ.AEDU.CD</td>\n",
       "      <td>2013</td>\n",
       "      <td>9.214395e+09</td>\n",
       "    </tr>\n",
       "    <tr>\n",
       "      <th>5399518</th>\n",
       "      <td>Andorra</td>\n",
       "      <td>ADO</td>\n",
       "      <td>Adjusted savings: education expenditure (curre...</td>\n",
       "      <td>NY.ADJ.AEDU.CD</td>\n",
       "      <td>2013</td>\n",
       "      <td>1.007221e+08</td>\n",
       "    </tr>\n",
       "    <tr>\n",
       "      <th>5399683</th>\n",
       "      <td>Angola</td>\n",
       "      <td>AGO</td>\n",
       "      <td>Adjusted savings: education expenditure (curre...</td>\n",
       "      <td>NY.ADJ.AEDU.CD</td>\n",
       "      <td>2013</td>\n",
       "      <td>4.041900e+09</td>\n",
       "    </tr>\n",
       "  </tbody>\n",
       "</table>\n",
       "</div>"
      ],
      "text/plain": [
       "         CountryName CountryCode  \\\n",
       "5396982  Afghanistan         AFG   \n",
       "5397749      Albania         ALB   \n",
       "5398644      Algeria         DZA   \n",
       "5399518      Andorra         ADO   \n",
       "5399683       Angola         AGO   \n",
       "\n",
       "                                             IndicatorName   IndicatorCode  \\\n",
       "5396982  Adjusted savings: education expenditure (curre...  NY.ADJ.AEDU.CD   \n",
       "5397749  Adjusted savings: education expenditure (curre...  NY.ADJ.AEDU.CD   \n",
       "5398644  Adjusted savings: education expenditure (curre...  NY.ADJ.AEDU.CD   \n",
       "5399518  Adjusted savings: education expenditure (curre...  NY.ADJ.AEDU.CD   \n",
       "5399683  Adjusted savings: education expenditure (curre...  NY.ADJ.AEDU.CD   \n",
       "\n",
       "         Year         Value  \n",
       "5396982  2013  3.272301e+08  \n",
       "5397749  2013  3.679888e+08  \n",
       "5398644  2013  9.214395e+09  \n",
       "5399518  2013  1.007221e+08  \n",
       "5399683  2013  4.041900e+09  "
      ]
     },
     "execution_count": 33,
     "metadata": {},
     "output_type": "execute_result"
    }
   ],
   "source": [
    "# select Adjusted savings: education expenditure for all countries in 2013\n",
    "hist_indicator = 'Adjusted savings: education expenditure \\(current'\n",
    "hist_year = 2013\n",
    "\n",
    "mask1 = data['IndicatorName'].str.contains(hist_indicator) \n",
    "mask2 = data['Year'].isin([hist_year])\n",
    "\n",
    "# apply our mask\n",
    "co2_2013 = data[mask1 & mask2]\n",
    "co2_2013.head()"
   ]
  },
  {
   "cell_type": "code",
   "execution_count": 34,
   "metadata": {},
   "outputs": [
    {
     "name": "stdout",
     "output_type": "stream",
     "text": [
      "180\n"
     ]
    }
   ],
   "source": [
    "print(len(co2_2013))"
   ]
  },
  {
   "cell_type": "code",
   "execution_count": 35,
   "metadata": {},
   "outputs": [
    {
     "data": {
      "text/html": [
       "<div>\n",
       "<style scoped>\n",
       "    .dataframe tbody tr th:only-of-type {\n",
       "        vertical-align: middle;\n",
       "    }\n",
       "\n",
       "    .dataframe tbody tr th {\n",
       "        vertical-align: top;\n",
       "    }\n",
       "\n",
       "    .dataframe thead th {\n",
       "        text-align: right;\n",
       "    }\n",
       "</style>\n",
       "<table border=\"1\" class=\"dataframe\">\n",
       "  <thead>\n",
       "    <tr style=\"text-align: right;\">\n",
       "      <th></th>\n",
       "      <th>CountryName</th>\n",
       "      <th>CountryCode</th>\n",
       "      <th>IndicatorName</th>\n",
       "      <th>IndicatorCode</th>\n",
       "      <th>Year</th>\n",
       "      <th>Value</th>\n",
       "    </tr>\n",
       "  </thead>\n",
       "  <tbody>\n",
       "    <tr>\n",
       "      <th>5422717</th>\n",
       "      <td>China</td>\n",
       "      <td>CHN</td>\n",
       "      <td>Adjusted savings: education expenditure (curre...</td>\n",
       "      <td>NY.ADJ.AEDU.CD</td>\n",
       "      <td>2013</td>\n",
       "      <td>1.700518e+11</td>\n",
       "    </tr>\n",
       "  </tbody>\n",
       "</table>\n",
       "</div>"
      ],
      "text/plain": [
       "        CountryName CountryCode  \\\n",
       "5422717       China         CHN   \n",
       "\n",
       "                                             IndicatorName   IndicatorCode  \\\n",
       "5422717  Adjusted savings: education expenditure (curre...  NY.ADJ.AEDU.CD   \n",
       "\n",
       "         Year         Value  \n",
       "5422717  2013  1.700518e+11  "
      ]
     },
     "execution_count": 35,
     "metadata": {},
     "output_type": "execute_result"
    }
   ],
   "source": [
    "co2_2013[co2_2013['CountryCode'] == 'CHN']"
   ]
  },
  {
   "cell_type": "code",
   "execution_count": 36,
   "metadata": {},
   "outputs": [
    {
     "data": {
      "text/html": [
       "<div>\n",
       "<style scoped>\n",
       "    .dataframe tbody tr th:only-of-type {\n",
       "        vertical-align: middle;\n",
       "    }\n",
       "\n",
       "    .dataframe tbody tr th {\n",
       "        vertical-align: top;\n",
       "    }\n",
       "\n",
       "    .dataframe thead th {\n",
       "        text-align: right;\n",
       "    }\n",
       "</style>\n",
       "<table border=\"1\" class=\"dataframe\">\n",
       "  <thead>\n",
       "    <tr style=\"text-align: right;\">\n",
       "      <th></th>\n",
       "      <th>CountryName</th>\n",
       "      <th>CountryCode</th>\n",
       "      <th>IndicatorName</th>\n",
       "      <th>IndicatorCode</th>\n",
       "      <th>Year</th>\n",
       "      <th>Value</th>\n",
       "    </tr>\n",
       "  </thead>\n",
       "  <tbody>\n",
       "    <tr>\n",
       "      <th>5527261</th>\n",
       "      <td>United States</td>\n",
       "      <td>USA</td>\n",
       "      <td>Adjusted savings: education expenditure (curre...</td>\n",
       "      <td>NY.ADJ.AEDU.CD</td>\n",
       "      <td>2013</td>\n",
       "      <td>7.981951e+11</td>\n",
       "    </tr>\n",
       "  </tbody>\n",
       "</table>\n",
       "</div>"
      ],
      "text/plain": [
       "           CountryName CountryCode  \\\n",
       "5527261  United States         USA   \n",
       "\n",
       "                                             IndicatorName   IndicatorCode  \\\n",
       "5527261  Adjusted savings: education expenditure (curre...  NY.ADJ.AEDU.CD   \n",
       "\n",
       "         Year         Value  \n",
       "5527261  2013  7.981951e+11  "
      ]
     },
     "execution_count": 36,
     "metadata": {},
     "output_type": "execute_result"
    }
   ],
   "source": [
    "co2_2013[co2_2013['CountryCode'] == 'USA']"
   ]
  },
  {
   "cell_type": "code",
   "execution_count": 37,
   "metadata": {},
   "outputs": [
    {
     "data": {
      "text/html": [
       "<div>\n",
       "<style scoped>\n",
       "    .dataframe tbody tr th:only-of-type {\n",
       "        vertical-align: middle;\n",
       "    }\n",
       "\n",
       "    .dataframe tbody tr th {\n",
       "        vertical-align: top;\n",
       "    }\n",
       "\n",
       "    .dataframe thead th {\n",
       "        text-align: right;\n",
       "    }\n",
       "</style>\n",
       "<table border=\"1\" class=\"dataframe\">\n",
       "  <thead>\n",
       "    <tr style=\"text-align: right;\">\n",
       "      <th></th>\n",
       "      <th>CountryName</th>\n",
       "      <th>CountryCode</th>\n",
       "      <th>IndicatorName</th>\n",
       "      <th>IndicatorCode</th>\n",
       "      <th>Year</th>\n",
       "      <th>Value</th>\n",
       "    </tr>\n",
       "  </thead>\n",
       "  <tbody>\n",
       "    <tr>\n",
       "      <th>5443335</th>\n",
       "      <td>Germany</td>\n",
       "      <td>DEU</td>\n",
       "      <td>Adjusted savings: education expenditure (curre...</td>\n",
       "      <td>NY.ADJ.AEDU.CD</td>\n",
       "      <td>2013</td>\n",
       "      <td>1.631084e+11</td>\n",
       "    </tr>\n",
       "  </tbody>\n",
       "</table>\n",
       "</div>"
      ],
      "text/plain": [
       "        CountryName CountryCode  \\\n",
       "5443335     Germany         DEU   \n",
       "\n",
       "                                             IndicatorName   IndicatorCode  \\\n",
       "5443335  Adjusted savings: education expenditure (curre...  NY.ADJ.AEDU.CD   \n",
       "\n",
       "         Year         Value  \n",
       "5443335  2013  1.631084e+11  "
      ]
     },
     "execution_count": 37,
     "metadata": {},
     "output_type": "execute_result"
    }
   ],
   "source": [
    "co2_2013[co2_2013['CountryCode'] == 'DEU']"
   ]
  },
  {
   "cell_type": "code",
   "execution_count": 38,
   "metadata": {},
   "outputs": [
    {
     "data": {
      "text/html": [
       "<div>\n",
       "<style scoped>\n",
       "    .dataframe tbody tr th:only-of-type {\n",
       "        vertical-align: middle;\n",
       "    }\n",
       "\n",
       "    .dataframe tbody tr th {\n",
       "        vertical-align: top;\n",
       "    }\n",
       "\n",
       "    .dataframe thead th {\n",
       "        text-align: right;\n",
       "    }\n",
       "</style>\n",
       "<table border=\"1\" class=\"dataframe\">\n",
       "  <thead>\n",
       "    <tr style=\"text-align: right;\">\n",
       "      <th></th>\n",
       "      <th>CountryName</th>\n",
       "      <th>CountryCode</th>\n",
       "      <th>IndicatorName</th>\n",
       "      <th>IndicatorCode</th>\n",
       "      <th>Year</th>\n",
       "      <th>Value</th>\n",
       "    </tr>\n",
       "  </thead>\n",
       "  <tbody>\n",
       "    <tr>\n",
       "      <th>5458390</th>\n",
       "      <td>Japan</td>\n",
       "      <td>JPN</td>\n",
       "      <td>Adjusted savings: education expenditure (curre...</td>\n",
       "      <td>NY.ADJ.AEDU.CD</td>\n",
       "      <td>2013</td>\n",
       "      <td>1.695950e+11</td>\n",
       "    </tr>\n",
       "  </tbody>\n",
       "</table>\n",
       "</div>"
      ],
      "text/plain": [
       "        CountryName CountryCode  \\\n",
       "5458390       Japan         JPN   \n",
       "\n",
       "                                             IndicatorName   IndicatorCode  \\\n",
       "5458390  Adjusted savings: education expenditure (curre...  NY.ADJ.AEDU.CD   \n",
       "\n",
       "         Year         Value  \n",
       "5458390  2013  1.695950e+11  "
      ]
     },
     "execution_count": 38,
     "metadata": {},
     "output_type": "execute_result"
    }
   ],
   "source": [
    "co2_2013[co2_2013['CountryCode'] == 'JPN']"
   ]
  },
  {
   "cell_type": "code",
   "execution_count": 39,
   "metadata": {},
   "outputs": [
    {
     "data": {
      "text/html": [
       "<div>\n",
       "<style scoped>\n",
       "    .dataframe tbody tr th:only-of-type {\n",
       "        vertical-align: middle;\n",
       "    }\n",
       "\n",
       "    .dataframe tbody tr th {\n",
       "        vertical-align: top;\n",
       "    }\n",
       "\n",
       "    .dataframe thead th {\n",
       "        text-align: right;\n",
       "    }\n",
       "</style>\n",
       "<table border=\"1\" class=\"dataframe\">\n",
       "  <thead>\n",
       "    <tr style=\"text-align: right;\">\n",
       "      <th></th>\n",
       "      <th>CountryName</th>\n",
       "      <th>CountryCode</th>\n",
       "      <th>IndicatorName</th>\n",
       "      <th>IndicatorCode</th>\n",
       "      <th>Year</th>\n",
       "      <th>Value</th>\n",
       "    </tr>\n",
       "  </thead>\n",
       "  <tbody>\n",
       "    <tr>\n",
       "      <th>5462029</th>\n",
       "      <td>Korea, Rep.</td>\n",
       "      <td>KOR</td>\n",
       "      <td>Adjusted savings: education expenditure (curre...</td>\n",
       "      <td>NY.ADJ.AEDU.CD</td>\n",
       "      <td>2013</td>\n",
       "      <td>6.180124e+10</td>\n",
       "    </tr>\n",
       "  </tbody>\n",
       "</table>\n",
       "</div>"
      ],
      "text/plain": [
       "         CountryName CountryCode  \\\n",
       "5462029  Korea, Rep.         KOR   \n",
       "\n",
       "                                             IndicatorName   IndicatorCode  \\\n",
       "5462029  Adjusted savings: education expenditure (curre...  NY.ADJ.AEDU.CD   \n",
       "\n",
       "         Year         Value  \n",
       "5462029  2013  6.180124e+10  "
      ]
     },
     "execution_count": 39,
     "metadata": {},
     "output_type": "execute_result"
    }
   ],
   "source": [
    "co2_2013[co2_2013['CountryCode'] == 'KOR']"
   ]
  },
  {
   "cell_type": "code",
   "execution_count": 40,
   "metadata": {
    "scrolled": true
   },
   "outputs": [
    {
     "data": {
      "image/png": "[encoded data removed]",
      "text/plain": [
       "<Figure size 1080x360 with 1 Axes>"
      ]
     },
     "metadata": {
      "needs_background": "light"
     },
     "output_type": "display_data"
    }
   ],
   "source": [
    "# let's plot a histogram of the Adjusted savings: education expenditure by country\n",
    "\n",
    "# subplots returns a touple with the figure, axis attributes.\n",
    "fig, ax = plt.subplots(figsize=(15,5))\n",
    "ax.annotate(\"USA\",\n",
    "            xy=(7.98*1e11, 0), xycoords='data',\n",
    "            xytext=(7.98*1e11, 30), textcoords='data',\n",
    "            arrowprops=dict(arrowstyle=\"->\",\n",
    "                            connectionstyle=\"arc3\"),\n",
    "            )\n",
    "\n",
    "ax.annotate(\"CHN\",\n",
    "            xy=(1.70*1e11, 0), xycoords='data',\n",
    "            xytext=(1.70*1e11, 30), textcoords='data',\n",
    "            arrowprops=dict(arrowstyle=\"->\",\n",
    "                            connectionstyle=\"arc3\"),\n",
    "            )\n",
    "\n",
    "ax.annotate(\"DEU\",\n",
    "            xy=(1.63*1e11, 0), xycoords='data',\n",
    "            xytext=(1.3*1e11, 30), textcoords='data',\n",
    "            arrowprops=dict(arrowstyle=\"->\",\n",
    "                            connectionstyle=\"arc3\"),\n",
    "            )\n",
    "\n",
    "ax.annotate(\"JPN\",\n",
    "            xy=(1.69*1e11, 0), xycoords='data',\n",
    "            xytext=(2.1*1e11, 30), textcoords='data',\n",
    "            arrowprops=dict(arrowstyle=\"->\",\n",
    "                            connectionstyle=\"arc3\"),\n",
    "            )\n",
    "\n",
    "ax.annotate(\"KOR\",\n",
    "            xy=(6.18*1e10, 0), xycoords='data',\n",
    "            xytext=(6.18*1e10, 30), textcoords='data',\n",
    "            arrowprops=dict(arrowstyle=\"->\",\n",
    "                            connectionstyle=\"arc3\"),\n",
    "            )\n",
    "\n",
    "plt.hist(co2_2013['Value'], 100, density=False, facecolor='green')\n",
    "\n",
    "plt.xlabel(co2_2013['IndicatorName'].iloc[0])\n",
    "plt.ylabel('# of Countries')\n",
    "plt.title('Histogram of education expenditure')\n",
    "\n",
    "plt.grid(True)\n",
    "\n",
    "plt.show()"
   ]
  },
  {
   "cell_type": "markdown",
   "metadata": {},
   "source": [
    "It looks like that the top countries in patent applications are also expending much in education, while USA has a extreme high Adjusted saving education expenditure compare to other countires, almost 5 times of the 2nd country"
   ]
  },
  {
   "cell_type": "markdown",
   "metadata": {},
   "source": [
    "### Find the countries with higher expenditure than KOR but not in Patent top ranking"
   ]
  },
  {
   "cell_type": "code",
   "execution_count": 41,
   "metadata": {},
   "outputs": [],
   "source": [
    "high_list = co2_2013[co2_2013['Value'] >= 5.684885e+10]['CountryCode'].tolist()"
   ]
  },
  {
   "cell_type": "code",
   "execution_count": 42,
   "metadata": {},
   "outputs": [
    {
     "data": {
      "text/plain": [
       "['AUS',\n",
       " 'BRA',\n",
       " 'CAN',\n",
       " 'CHN',\n",
       " 'FRA',\n",
       " 'DEU',\n",
       " 'IND',\n",
       " 'ITA',\n",
       " 'JPN',\n",
       " 'KOR',\n",
       " 'MEX',\n",
       " 'RUS',\n",
       " 'ESP',\n",
       " 'GBR',\n",
       " 'USA']"
      ]
     },
     "execution_count": 42,
     "metadata": {},
     "output_type": "execute_result"
    }
   ],
   "source": [
    "high_list"
   ]
  },
  {
   "cell_type": "code",
   "execution_count": 43,
   "metadata": {},
   "outputs": [
    {
     "data": {
      "text/html": [
       "<div>\n",
       "<style scoped>\n",
       "    .dataframe tbody tr th:only-of-type {\n",
       "        vertical-align: middle;\n",
       "    }\n",
       "\n",
       "    .dataframe tbody tr th {\n",
       "        vertical-align: top;\n",
       "    }\n",
       "\n",
       "    .dataframe thead th {\n",
       "        text-align: right;\n",
       "    }\n",
       "</style>\n",
       "<table border=\"1\" class=\"dataframe\">\n",
       "  <thead>\n",
       "    <tr style=\"text-align: right;\">\n",
       "      <th></th>\n",
       "      <th>CountryName</th>\n",
       "      <th>CountryCode</th>\n",
       "      <th>IndicatorName</th>\n",
       "      <th>IndicatorCode</th>\n",
       "      <th>Year</th>\n",
       "      <th>Value</th>\n",
       "    </tr>\n",
       "  </thead>\n",
       "  <tbody>\n",
       "    <tr>\n",
       "      <th>5423257</th>\n",
       "      <td>China</td>\n",
       "      <td>CHN</td>\n",
       "      <td>Patent applications, residents</td>\n",
       "      <td>IP.PAT.RESD</td>\n",
       "      <td>2013</td>\n",
       "      <td>704936.0</td>\n",
       "    </tr>\n",
       "    <tr>\n",
       "      <th>5527730</th>\n",
       "      <td>United States</td>\n",
       "      <td>USA</td>\n",
       "      <td>Patent applications, residents</td>\n",
       "      <td>IP.PAT.RESD</td>\n",
       "      <td>2013</td>\n",
       "      <td>287831.0</td>\n",
       "    </tr>\n",
       "    <tr>\n",
       "      <th>5458839</th>\n",
       "      <td>Japan</td>\n",
       "      <td>JPN</td>\n",
       "      <td>Patent applications, residents</td>\n",
       "      <td>IP.PAT.RESD</td>\n",
       "      <td>2013</td>\n",
       "      <td>271731.0</td>\n",
       "    </tr>\n",
       "    <tr>\n",
       "      <th>5462497</th>\n",
       "      <td>Korea, Rep.</td>\n",
       "      <td>KOR</td>\n",
       "      <td>Patent applications, residents</td>\n",
       "      <td>IP.PAT.RESD</td>\n",
       "      <td>2013</td>\n",
       "      <td>159978.0</td>\n",
       "    </tr>\n",
       "    <tr>\n",
       "      <th>5443794</th>\n",
       "      <td>Germany</td>\n",
       "      <td>DEU</td>\n",
       "      <td>Patent applications, residents</td>\n",
       "      <td>IP.PAT.RESD</td>\n",
       "      <td>2013</td>\n",
       "      <td>47353.0</td>\n",
       "    </tr>\n",
       "    <tr>\n",
       "      <th>5499544</th>\n",
       "      <td>Russian Federation</td>\n",
       "      <td>RUS</td>\n",
       "      <td>Patent applications, residents</td>\n",
       "      <td>IP.PAT.RESD</td>\n",
       "      <td>2013</td>\n",
       "      <td>28765.0</td>\n",
       "    </tr>\n",
       "    <tr>\n",
       "      <th>5527072</th>\n",
       "      <td>United Kingdom</td>\n",
       "      <td>GBR</td>\n",
       "      <td>Patent applications, residents</td>\n",
       "      <td>IP.PAT.RESD</td>\n",
       "      <td>2013</td>\n",
       "      <td>14972.0</td>\n",
       "    </tr>\n",
       "    <tr>\n",
       "      <th>5440596</th>\n",
       "      <td>France</td>\n",
       "      <td>FRA</td>\n",
       "      <td>Patent applications, residents</td>\n",
       "      <td>IP.PAT.RESD</td>\n",
       "      <td>2013</td>\n",
       "      <td>14690.0</td>\n",
       "    </tr>\n",
       "    <tr>\n",
       "      <th>5453445</th>\n",
       "      <td>India</td>\n",
       "      <td>IND</td>\n",
       "      <td>Patent applications, residents</td>\n",
       "      <td>IP.PAT.RESD</td>\n",
       "      <td>2013</td>\n",
       "      <td>10669.0</td>\n",
       "    </tr>\n",
       "    <tr>\n",
       "      <th>5457415</th>\n",
       "      <td>Italy</td>\n",
       "      <td>ITA</td>\n",
       "      <td>Patent applications, residents</td>\n",
       "      <td>IP.PAT.RESD</td>\n",
       "      <td>2013</td>\n",
       "      <td>8307.0</td>\n",
       "    </tr>\n",
       "    <tr>\n",
       "      <th>5414249</th>\n",
       "      <td>Brazil</td>\n",
       "      <td>BRA</td>\n",
       "      <td>Patent applications, residents</td>\n",
       "      <td>IP.PAT.RESD</td>\n",
       "      <td>2013</td>\n",
       "      <td>4959.0</td>\n",
       "    </tr>\n",
       "    <tr>\n",
       "      <th>5420328</th>\n",
       "      <td>Canada</td>\n",
       "      <td>CAN</td>\n",
       "      <td>Patent applications, residents</td>\n",
       "      <td>IP.PAT.RESD</td>\n",
       "      <td>2013</td>\n",
       "      <td>4567.0</td>\n",
       "    </tr>\n",
       "    <tr>\n",
       "      <th>5403047</th>\n",
       "      <td>Australia</td>\n",
       "      <td>AUS</td>\n",
       "      <td>Patent applications, residents</td>\n",
       "      <td>IP.PAT.RESD</td>\n",
       "      <td>2013</td>\n",
       "      <td>3061.0</td>\n",
       "    </tr>\n",
       "    <tr>\n",
       "      <th>5510222</th>\n",
       "      <td>Spain</td>\n",
       "      <td>ESP</td>\n",
       "      <td>Patent applications, residents</td>\n",
       "      <td>IP.PAT.RESD</td>\n",
       "      <td>2013</td>\n",
       "      <td>3026.0</td>\n",
       "    </tr>\n",
       "    <tr>\n",
       "      <th>5478540</th>\n",
       "      <td>Mexico</td>\n",
       "      <td>MEX</td>\n",
       "      <td>Patent applications, residents</td>\n",
       "      <td>IP.PAT.RESD</td>\n",
       "      <td>2013</td>\n",
       "      <td>1210.0</td>\n",
       "    </tr>\n",
       "  </tbody>\n",
       "</table>\n",
       "</div>"
      ],
      "text/plain": [
       "                CountryName CountryCode                   IndicatorName  \\\n",
       "5423257               China         CHN  Patent applications, residents   \n",
       "5527730       United States         USA  Patent applications, residents   \n",
       "5458839               Japan         JPN  Patent applications, residents   \n",
       "5462497         Korea, Rep.         KOR  Patent applications, residents   \n",
       "5443794             Germany         DEU  Patent applications, residents   \n",
       "5499544  Russian Federation         RUS  Patent applications, residents   \n",
       "5527072      United Kingdom         GBR  Patent applications, residents   \n",
       "5440596              France         FRA  Patent applications, residents   \n",
       "5453445               India         IND  Patent applications, residents   \n",
       "5457415               Italy         ITA  Patent applications, residents   \n",
       "5414249              Brazil         BRA  Patent applications, residents   \n",
       "5420328              Canada         CAN  Patent applications, residents   \n",
       "5403047           Australia         AUS  Patent applications, residents   \n",
       "5510222               Spain         ESP  Patent applications, residents   \n",
       "5478540              Mexico         MEX  Patent applications, residents   \n",
       "\n",
       "        IndicatorCode  Year     Value  \n",
       "5423257   IP.PAT.RESD  2013  704936.0  \n",
       "5527730   IP.PAT.RESD  2013  287831.0  \n",
       "5458839   IP.PAT.RESD  2013  271731.0  \n",
       "5462497   IP.PAT.RESD  2013  159978.0  \n",
       "5443794   IP.PAT.RESD  2013   47353.0  \n",
       "5499544   IP.PAT.RESD  2013   28765.0  \n",
       "5527072   IP.PAT.RESD  2013   14972.0  \n",
       "5440596   IP.PAT.RESD  2013   14690.0  \n",
       "5453445   IP.PAT.RESD  2013   10669.0  \n",
       "5457415   IP.PAT.RESD  2013    8307.0  \n",
       "5414249   IP.PAT.RESD  2013    4959.0  \n",
       "5420328   IP.PAT.RESD  2013    4567.0  \n",
       "5403047   IP.PAT.RESD  2013    3061.0  \n",
       "5510222   IP.PAT.RESD  2013    3026.0  \n",
       "5478540   IP.PAT.RESD  2013    1210.0  "
      ]
     },
     "execution_count": 43,
     "metadata": {},
     "output_type": "execute_result"
    }
   ],
   "source": [
    "data[(data['IndicatorName'] == 'Patent applications, residents' )&  (data['CountryCode'].isin(high_list)) & (data['Year'] == 2013 )].sort_values('Value', ascending = False)"
   ]
  },
  {
   "cell_type": "markdown",
   "metadata": {},
   "source": [
    "### Relationship between Patent Applications and Education Expenditure"
   ]
  },
  {
   "cell_type": "markdown",
   "metadata": {},
   "source": [
    "### ScatterPlot for comparing Patent Applications and Education Expenditure (Current US$)"
   ]
  },
  {
   "cell_type": "markdown",
   "metadata": {},
   "source": [
    "### Make them in same years time frame"
   ]
  },
  {
   "cell_type": "code",
   "execution_count": 44,
   "metadata": {},
   "outputs": [
    {
     "name": "stdout",
     "output_type": "stream",
     "text": [
      "Patent Min Year =  1985 max:  2013\n",
      "Education Min Year =  1970 max:  2013\n"
     ]
    }
   ],
   "source": [
    "print(\"Patent Min Year = \", stage_CHN['Year'].min(), \"max: \", stage_CHN['Year'].max())\n",
    "print(\"Education Min Year = \", stage2_CHN['Year'].min(), \"max: \", stage2_CHN['Year'].max())"
   ]
  },
  {
   "cell_type": "markdown",
   "metadata": {},
   "source": [
    "We have 3 extra years of GDP data, so let's trim those off so the scatterplot has equal length arrays to compare (this is actually required by scatterplot)"
   ]
  },
  {
   "cell_type": "code",
   "execution_count": 45,
   "metadata": {},
   "outputs": [
    {
     "name": "stdout",
     "output_type": "stream",
     "text": [
      "29\n",
      "29\n"
     ]
    }
   ],
   "source": [
    "stage2_CHN_trunc = stage2_CHN[stage2_CHN['Year'] > 1984]\n",
    "print(len(stage2_CHN_trunc))\n",
    "print(len(stage_CHN))"
   ]
  },
  {
   "cell_type": "code",
   "execution_count": 46,
   "metadata": {},
   "outputs": [
    {
     "data": {
      "image/png": "[encoded data removed]",
      "text/plain": [
       "<Figure size 432x288 with 1 Axes>"
      ]
     },
     "metadata": {
      "needs_background": "light"
     },
     "output_type": "display_data"
    }
   ],
   "source": [
    "%matplotlib inline\n",
    "import matplotlib.pyplot as plt\n",
    "\n",
    "fig, axis = plt.subplots()\n",
    "# Grid lines, Xticks, Xlabel, Ylabel\n",
    "\n",
    "axis.yaxis.grid(True)\n",
    "axis.set_title('Patent Applications vs. Education Expenditure in China',fontsize=10)\n",
    "axis.set_xlabel(stage2_CHN_trunc['IndicatorName'].iloc[0],fontsize=10)\n",
    "axis.set_ylabel(stage_CHN['IndicatorName'].iloc[0],fontsize=10)\n",
    "\n",
    "X = stage2_CHN_trunc['Value']\n",
    "Y = stage_CHN['Value']\n",
    "\n",
    "axis.scatter(X, Y)\n",
    "plt.savefig('CHN.png', dpi=200, bbox_inches='tight') \n",
    "plt.show()\n"
   ]
  },
  {
   "cell_type": "code",
   "execution_count": 47,
   "metadata": {},
   "outputs": [
    {
     "data": {
      "text/plain": [
       "array([[1.        , 0.97713731],\n",
       "       [0.97713731, 1.        ]])"
      ]
     },
     "execution_count": 47,
     "metadata": {},
     "output_type": "execute_result"
    }
   ],
   "source": [
    "np.corrcoef(stage2_CHN_trunc['Value'],stage_CHN['Value'])"
   ]
  },
  {
   "cell_type": "code",
   "execution_count": 48,
   "metadata": {},
   "outputs": [
    {
     "name": "stdout",
     "output_type": "stream",
     "text": [
      "Patent Min Year =  1960 max:  2013\n",
      "Education Min Year =  1970 max:  2013\n"
     ]
    }
   ],
   "source": [
    "print(\"Patent Min Year = \", stage_USA['Year'].min(), \"max: \", stage_USA['Year'].max())\n",
    "print(\"Education Min Year = \", stage2_USA['Year'].min(), \"max: \", stage2_USA['Year'].max())"
   ]
  },
  {
   "cell_type": "code",
   "execution_count": 49,
   "metadata": {},
   "outputs": [
    {
     "name": "stdout",
     "output_type": "stream",
     "text": [
      "44\n",
      "44\n"
     ]
    }
   ],
   "source": [
    "stage_USA_trunc = stage_USA[stage_USA['Year'] > 1969]\n",
    "print(len(stage_USA_trunc))\n",
    "print(len(stage2_USA))"
   ]
  },
  {
   "cell_type": "code",
   "execution_count": 50,
   "metadata": {},
   "outputs": [
    {
     "data": {
      "image/png": "[encoded data removed]",
      "text/plain": [
       "<Figure size 432x288 with 1 Axes>"
      ]
     },
     "metadata": {
      "needs_background": "light"
     },
     "output_type": "display_data"
    }
   ],
   "source": [
    "%matplotlib inline\n",
    "import matplotlib.pyplot as plt\n",
    "\n",
    "fig, axis = plt.subplots()\n",
    "# Grid lines, Xticks, Xlabel, Ylabel\n",
    "\n",
    "axis.yaxis.grid(True)\n",
    "axis.set_title('Patent Applications vs. Education Expenditure in USA',fontsize=10)\n",
    "axis.set_xlabel(stage2_USA['IndicatorName'].iloc[0],fontsize=10)\n",
    "axis.set_ylabel(stage_USA_trunc['IndicatorName'].iloc[0],fontsize=10)\n",
    "\n",
    "X = stage2_USA['Value']\n",
    "Y = stage_USA_trunc['Value']\n",
    "\n",
    "axis.scatter(X, Y)\n",
    "plt.savefig('USA.png', dpi=200, bbox_inches='tight') \n",
    "plt.show()"
   ]
  },
  {
   "cell_type": "code",
   "execution_count": 51,
   "metadata": {},
   "outputs": [
    {
     "data": {
      "text/plain": [
       "array([[1.        , 0.97110532],\n",
       "       [0.97110532, 1.        ]])"
      ]
     },
     "execution_count": 51,
     "metadata": {},
     "output_type": "execute_result"
    }
   ],
   "source": [
    "np.corrcoef(stage2_USA['Value'],stage_USA_trunc['Value'])"
   ]
  },
  {
   "cell_type": "code",
   "execution_count": 52,
   "metadata": {},
   "outputs": [
    {
     "name": "stdout",
     "output_type": "stream",
     "text": [
      "Patent Min Year =  1963 max:  2013\n",
      "Education Min Year =  1970 max:  2013\n"
     ]
    }
   ],
   "source": [
    "print(\"Patent Min Year = \", stage_JPN['Year'].min(), \"max: \", stage_JPN['Year'].max())\n",
    "print(\"Education Min Year = \", stage2_JPN['Year'].min(), \"max: \", stage2_JPN['Year'].max())"
   ]
  },
  {
   "cell_type": "code",
   "execution_count": 53,
   "metadata": {},
   "outputs": [
    {
     "name": "stdout",
     "output_type": "stream",
     "text": [
      "42\n",
      "44\n"
     ]
    }
   ],
   "source": [
    "stage_JPN_trunc = stage_JPN[stage_JPN['Year'] > 1969]\n",
    "print(len(stage_JPN_trunc))\n",
    "print(len(stage2_JPN))"
   ]
  },
  {
   "cell_type": "code",
   "execution_count": 54,
   "metadata": {},
   "outputs": [
    {
     "data": {
      "text/html": [
       "<div>\n",
       "<style scoped>\n",
       "    .dataframe tbody tr th:only-of-type {\n",
       "        vertical-align: middle;\n",
       "    }\n",
       "\n",
       "    .dataframe tbody tr th {\n",
       "        vertical-align: top;\n",
       "    }\n",
       "\n",
       "    .dataframe thead th {\n",
       "        text-align: right;\n",
       "    }\n",
       "</style>\n",
       "<table border=\"1\" class=\"dataframe\">\n",
       "  <thead>\n",
       "    <tr style=\"text-align: right;\">\n",
       "      <th></th>\n",
       "      <th>CountryName</th>\n",
       "      <th>CountryCode</th>\n",
       "      <th>IndicatorName</th>\n",
       "      <th>IndicatorCode</th>\n",
       "      <th>Year</th>\n",
       "      <th>Value</th>\n",
       "    </tr>\n",
       "  </thead>\n",
       "  <tbody>\n",
       "    <tr>\n",
       "      <th>331908</th>\n",
       "      <td>Japan</td>\n",
       "      <td>JPN</td>\n",
       "      <td>Patent applications, residents</td>\n",
       "      <td>IP.PAT.RESD</td>\n",
       "      <td>1970</td>\n",
       "      <td>100513.0</td>\n",
       "    </tr>\n",
       "    <tr>\n",
       "      <th>397656</th>\n",
       "      <td>Japan</td>\n",
       "      <td>JPN</td>\n",
       "      <td>Patent applications, residents</td>\n",
       "      <td>IP.PAT.RESD</td>\n",
       "      <td>1971</td>\n",
       "      <td>78425.0</td>\n",
       "    </tr>\n",
       "    <tr>\n",
       "      <th>466676</th>\n",
       "      <td>Japan</td>\n",
       "      <td>JPN</td>\n",
       "      <td>Patent applications, residents</td>\n",
       "      <td>IP.PAT.RESD</td>\n",
       "      <td>1972</td>\n",
       "      <td>101328.0</td>\n",
       "    </tr>\n",
       "    <tr>\n",
       "      <th>536375</th>\n",
       "      <td>Japan</td>\n",
       "      <td>JPN</td>\n",
       "      <td>Patent applications, residents</td>\n",
       "      <td>IP.PAT.RESD</td>\n",
       "      <td>1973</td>\n",
       "      <td>115221.0</td>\n",
       "    </tr>\n",
       "    <tr>\n",
       "      <th>606283</th>\n",
       "      <td>Japan</td>\n",
       "      <td>JPN</td>\n",
       "      <td>Patent applications, residents</td>\n",
       "      <td>IP.PAT.RESD</td>\n",
       "      <td>1974</td>\n",
       "      <td>121509.0</td>\n",
       "    </tr>\n",
       "    <tr>\n",
       "      <th>677634</th>\n",
       "      <td>Japan</td>\n",
       "      <td>JPN</td>\n",
       "      <td>Patent applications, residents</td>\n",
       "      <td>IP.PAT.RESD</td>\n",
       "      <td>1975</td>\n",
       "      <td>135118.0</td>\n",
       "    </tr>\n",
       "    <tr>\n",
       "      <th>750517</th>\n",
       "      <td>Japan</td>\n",
       "      <td>JPN</td>\n",
       "      <td>Patent applications, residents</td>\n",
       "      <td>IP.PAT.RESD</td>\n",
       "      <td>1976</td>\n",
       "      <td>135762.0</td>\n",
       "    </tr>\n",
       "    <tr>\n",
       "      <th>825108</th>\n",
       "      <td>Japan</td>\n",
       "      <td>JPN</td>\n",
       "      <td>Patent applications, residents</td>\n",
       "      <td>IP.PAT.RESD</td>\n",
       "      <td>1977</td>\n",
       "      <td>135991.0</td>\n",
       "    </tr>\n",
       "    <tr>\n",
       "      <th>900452</th>\n",
       "      <td>Japan</td>\n",
       "      <td>JPN</td>\n",
       "      <td>Patent applications, residents</td>\n",
       "      <td>IP.PAT.RESD</td>\n",
       "      <td>1978</td>\n",
       "      <td>141517.0</td>\n",
       "    </tr>\n",
       "    <tr>\n",
       "      <th>976313</th>\n",
       "      <td>Japan</td>\n",
       "      <td>JPN</td>\n",
       "      <td>Patent applications, residents</td>\n",
       "      <td>IP.PAT.RESD</td>\n",
       "      <td>1979</td>\n",
       "      <td>150623.0</td>\n",
       "    </tr>\n",
       "    <tr>\n",
       "      <th>1055239</th>\n",
       "      <td>Japan</td>\n",
       "      <td>JPN</td>\n",
       "      <td>Patent applications, residents</td>\n",
       "      <td>IP.PAT.RESD</td>\n",
       "      <td>1980</td>\n",
       "      <td>165730.0</td>\n",
       "    </tr>\n",
       "    <tr>\n",
       "      <th>1308375</th>\n",
       "      <td>Japan</td>\n",
       "      <td>JPN</td>\n",
       "      <td>Patent applications, residents</td>\n",
       "      <td>IP.PAT.RESD</td>\n",
       "      <td>1983</td>\n",
       "      <td>227708.0</td>\n",
       "    </tr>\n",
       "    <tr>\n",
       "      <th>1393966</th>\n",
       "      <td>Japan</td>\n",
       "      <td>JPN</td>\n",
       "      <td>Patent applications, residents</td>\n",
       "      <td>IP.PAT.RESD</td>\n",
       "      <td>1984</td>\n",
       "      <td>256195.0</td>\n",
       "    </tr>\n",
       "    <tr>\n",
       "      <th>1480524</th>\n",
       "      <td>Japan</td>\n",
       "      <td>JPN</td>\n",
       "      <td>Patent applications, residents</td>\n",
       "      <td>IP.PAT.RESD</td>\n",
       "      <td>1985</td>\n",
       "      <td>274348.0</td>\n",
       "    </tr>\n",
       "    <tr>\n",
       "      <th>1568261</th>\n",
       "      <td>Japan</td>\n",
       "      <td>JPN</td>\n",
       "      <td>Patent applications, residents</td>\n",
       "      <td>IP.PAT.RESD</td>\n",
       "      <td>1986</td>\n",
       "      <td>290132.0</td>\n",
       "    </tr>\n",
       "    <tr>\n",
       "      <th>1657052</th>\n",
       "      <td>Japan</td>\n",
       "      <td>JPN</td>\n",
       "      <td>Patent applications, residents</td>\n",
       "      <td>IP.PAT.RESD</td>\n",
       "      <td>1987</td>\n",
       "      <td>310908.0</td>\n",
       "    </tr>\n",
       "    <tr>\n",
       "      <th>1746219</th>\n",
       "      <td>Japan</td>\n",
       "      <td>JPN</td>\n",
       "      <td>Patent applications, residents</td>\n",
       "      <td>IP.PAT.RESD</td>\n",
       "      <td>1988</td>\n",
       "      <td>308775.0</td>\n",
       "    </tr>\n",
       "    <tr>\n",
       "      <th>1837432</th>\n",
       "      <td>Japan</td>\n",
       "      <td>JPN</td>\n",
       "      <td>Patent applications, residents</td>\n",
       "      <td>IP.PAT.RESD</td>\n",
       "      <td>1989</td>\n",
       "      <td>317353.0</td>\n",
       "    </tr>\n",
       "    <tr>\n",
       "      <th>1942801</th>\n",
       "      <td>Japan</td>\n",
       "      <td>JPN</td>\n",
       "      <td>Patent applications, residents</td>\n",
       "      <td>IP.PAT.RESD</td>\n",
       "      <td>1990</td>\n",
       "      <td>332952.0</td>\n",
       "    </tr>\n",
       "    <tr>\n",
       "      <th>2059723</th>\n",
       "      <td>Japan</td>\n",
       "      <td>JPN</td>\n",
       "      <td>Patent applications, residents</td>\n",
       "      <td>IP.PAT.RESD</td>\n",
       "      <td>1991</td>\n",
       "      <td>335564.0</td>\n",
       "    </tr>\n",
       "    <tr>\n",
       "      <th>2177909</th>\n",
       "      <td>Japan</td>\n",
       "      <td>JPN</td>\n",
       "      <td>Patent applications, residents</td>\n",
       "      <td>IP.PAT.RESD</td>\n",
       "      <td>1992</td>\n",
       "      <td>337498.0</td>\n",
       "    </tr>\n",
       "    <tr>\n",
       "      <th>2301011</th>\n",
       "      <td>Japan</td>\n",
       "      <td>JPN</td>\n",
       "      <td>Patent applications, residents</td>\n",
       "      <td>IP.PAT.RESD</td>\n",
       "      <td>1993</td>\n",
       "      <td>331774.0</td>\n",
       "    </tr>\n",
       "    <tr>\n",
       "      <th>2425771</th>\n",
       "      <td>Japan</td>\n",
       "      <td>JPN</td>\n",
       "      <td>Patent applications, residents</td>\n",
       "      <td>IP.PAT.RESD</td>\n",
       "      <td>1994</td>\n",
       "      <td>319261.0</td>\n",
       "    </tr>\n",
       "    <tr>\n",
       "      <th>2555996</th>\n",
       "      <td>Japan</td>\n",
       "      <td>JPN</td>\n",
       "      <td>Patent applications, residents</td>\n",
       "      <td>IP.PAT.RESD</td>\n",
       "      <td>1995</td>\n",
       "      <td>333770.0</td>\n",
       "    </tr>\n",
       "    <tr>\n",
       "      <th>2691132</th>\n",
       "      <td>Japan</td>\n",
       "      <td>JPN</td>\n",
       "      <td>Patent applications, residents</td>\n",
       "      <td>IP.PAT.RESD</td>\n",
       "      <td>1996</td>\n",
       "      <td>339045.0</td>\n",
       "    </tr>\n",
       "    <tr>\n",
       "      <th>2826487</th>\n",
       "      <td>Japan</td>\n",
       "      <td>JPN</td>\n",
       "      <td>Patent applications, residents</td>\n",
       "      <td>IP.PAT.RESD</td>\n",
       "      <td>1997</td>\n",
       "      <td>349211.0</td>\n",
       "    </tr>\n",
       "    <tr>\n",
       "      <th>2963359</th>\n",
       "      <td>Japan</td>\n",
       "      <td>JPN</td>\n",
       "      <td>Patent applications, residents</td>\n",
       "      <td>IP.PAT.RESD</td>\n",
       "      <td>1998</td>\n",
       "      <td>357379.0</td>\n",
       "    </tr>\n",
       "    <tr>\n",
       "      <th>3103006</th>\n",
       "      <td>Japan</td>\n",
       "      <td>JPN</td>\n",
       "      <td>Patent applications, residents</td>\n",
       "      <td>IP.PAT.RESD</td>\n",
       "      <td>1999</td>\n",
       "      <td>357531.0</td>\n",
       "    </tr>\n",
       "    <tr>\n",
       "      <th>3251865</th>\n",
       "      <td>Japan</td>\n",
       "      <td>JPN</td>\n",
       "      <td>Patent applications, residents</td>\n",
       "      <td>IP.PAT.RESD</td>\n",
       "      <td>2000</td>\n",
       "      <td>384201.0</td>\n",
       "    </tr>\n",
       "    <tr>\n",
       "      <th>3403966</th>\n",
       "      <td>Japan</td>\n",
       "      <td>JPN</td>\n",
       "      <td>Patent applications, residents</td>\n",
       "      <td>IP.PAT.RESD</td>\n",
       "      <td>2001</td>\n",
       "      <td>382815.0</td>\n",
       "    </tr>\n",
       "    <tr>\n",
       "      <th>3556745</th>\n",
       "      <td>Japan</td>\n",
       "      <td>JPN</td>\n",
       "      <td>Patent applications, residents</td>\n",
       "      <td>IP.PAT.RESD</td>\n",
       "      <td>2002</td>\n",
       "      <td>365204.0</td>\n",
       "    </tr>\n",
       "    <tr>\n",
       "      <th>3710986</th>\n",
       "      <td>Japan</td>\n",
       "      <td>JPN</td>\n",
       "      <td>Patent applications, residents</td>\n",
       "      <td>IP.PAT.RESD</td>\n",
       "      <td>2003</td>\n",
       "      <td>358184.0</td>\n",
       "    </tr>\n",
       "    <tr>\n",
       "      <th>3866642</th>\n",
       "      <td>Japan</td>\n",
       "      <td>JPN</td>\n",
       "      <td>Patent applications, residents</td>\n",
       "      <td>IP.PAT.RESD</td>\n",
       "      <td>2004</td>\n",
       "      <td>368416.0</td>\n",
       "    </tr>\n",
       "    <tr>\n",
       "      <th>4036880</th>\n",
       "      <td>Japan</td>\n",
       "      <td>JPN</td>\n",
       "      <td>Patent applications, residents</td>\n",
       "      <td>IP.PAT.RESD</td>\n",
       "      <td>2005</td>\n",
       "      <td>367960.0</td>\n",
       "    </tr>\n",
       "    <tr>\n",
       "      <th>4215149</th>\n",
       "      <td>Japan</td>\n",
       "      <td>JPN</td>\n",
       "      <td>Patent applications, residents</td>\n",
       "      <td>IP.PAT.RESD</td>\n",
       "      <td>2006</td>\n",
       "      <td>347060.0</td>\n",
       "    </tr>\n",
       "    <tr>\n",
       "      <th>4394178</th>\n",
       "      <td>Japan</td>\n",
       "      <td>JPN</td>\n",
       "      <td>Patent applications, residents</td>\n",
       "      <td>IP.PAT.RESD</td>\n",
       "      <td>2007</td>\n",
       "      <td>333498.0</td>\n",
       "    </tr>\n",
       "    <tr>\n",
       "      <th>4574442</th>\n",
       "      <td>Japan</td>\n",
       "      <td>JPN</td>\n",
       "      <td>Patent applications, residents</td>\n",
       "      <td>IP.PAT.RESD</td>\n",
       "      <td>2008</td>\n",
       "      <td>330110.0</td>\n",
       "    </tr>\n",
       "    <tr>\n",
       "      <th>4753386</th>\n",
       "      <td>Japan</td>\n",
       "      <td>JPN</td>\n",
       "      <td>Patent applications, residents</td>\n",
       "      <td>IP.PAT.RESD</td>\n",
       "      <td>2009</td>\n",
       "      <td>295315.0</td>\n",
       "    </tr>\n",
       "    <tr>\n",
       "      <th>4936593</th>\n",
       "      <td>Japan</td>\n",
       "      <td>JPN</td>\n",
       "      <td>Patent applications, residents</td>\n",
       "      <td>IP.PAT.RESD</td>\n",
       "      <td>2010</td>\n",
       "      <td>290081.0</td>\n",
       "    </tr>\n",
       "    <tr>\n",
       "      <th>5117913</th>\n",
       "      <td>Japan</td>\n",
       "      <td>JPN</td>\n",
       "      <td>Patent applications, residents</td>\n",
       "      <td>IP.PAT.RESD</td>\n",
       "      <td>2011</td>\n",
       "      <td>287580.0</td>\n",
       "    </tr>\n",
       "    <tr>\n",
       "      <th>5293459</th>\n",
       "      <td>Japan</td>\n",
       "      <td>JPN</td>\n",
       "      <td>Patent applications, residents</td>\n",
       "      <td>IP.PAT.RESD</td>\n",
       "      <td>2012</td>\n",
       "      <td>287013.0</td>\n",
       "    </tr>\n",
       "    <tr>\n",
       "      <th>5458839</th>\n",
       "      <td>Japan</td>\n",
       "      <td>JPN</td>\n",
       "      <td>Patent applications, residents</td>\n",
       "      <td>IP.PAT.RESD</td>\n",
       "      <td>2013</td>\n",
       "      <td>271731.0</td>\n",
       "    </tr>\n",
       "  </tbody>\n",
       "</table>\n",
       "</div>"
      ],
      "text/plain": [
       "        CountryName CountryCode                   IndicatorName IndicatorCode  \\\n",
       "331908        Japan         JPN  Patent applications, residents   IP.PAT.RESD   \n",
       "397656        Japan         JPN  Patent applications, residents   IP.PAT.RESD   \n",
       "466676        Japan         JPN  Patent applications, residents   IP.PAT.RESD   \n",
       "536375        Japan         JPN  Patent applications, residents   IP.PAT.RESD   \n",
       "606283        Japan         JPN  Patent applications, residents   IP.PAT.RESD   \n",
       "677634        Japan         JPN  Patent applications, residents   IP.PAT.RESD   \n",
       "750517        Japan         JPN  Patent applications, residents   IP.PAT.RESD   \n",
       "825108        Japan         JPN  Patent applications, residents   IP.PAT.RESD   \n",
       "900452        Japan         JPN  Patent applications, residents   IP.PAT.RESD   \n",
       "976313        Japan         JPN  Patent applications, residents   IP.PAT.RESD   \n",
       "1055239       Japan         JPN  Patent applications, residents   IP.PAT.RESD   \n",
       "1308375       Japan         JPN  Patent applications, residents   IP.PAT.RESD   \n",
       "1393966       Japan         JPN  Patent applications, residents   IP.PAT.RESD   \n",
       "1480524       Japan         JPN  Patent applications, residents   IP.PAT.RESD   \n",
       "1568261       Japan         JPN  Patent applications, residents   IP.PAT.RESD   \n",
       "1657052       Japan         JPN  Patent applications, residents   IP.PAT.RESD   \n",
       "1746219       Japan         JPN  Patent applications, residents   IP.PAT.RESD   \n",
       "1837432       Japan         JPN  Patent applications, residents   IP.PAT.RESD   \n",
       "1942801       Japan         JPN  Patent applications, residents   IP.PAT.RESD   \n",
       "2059723       Japan         JPN  Patent applications, residents   IP.PAT.RESD   \n",
       "2177909       Japan         JPN  Patent applications, residents   IP.PAT.RESD   \n",
       "2301011       Japan         JPN  Patent applications, residents   IP.PAT.RESD   \n",
       "2425771       Japan         JPN  Patent applications, residents   IP.PAT.RESD   \n",
       "2555996       Japan         JPN  Patent applications, residents   IP.PAT.RESD   \n",
       "2691132       Japan         JPN  Patent applications, residents   IP.PAT.RESD   \n",
       "2826487       Japan         JPN  Patent applications, residents   IP.PAT.RESD   \n",
       "2963359       Japan         JPN  Patent applications, residents   IP.PAT.RESD   \n",
       "3103006       Japan         JPN  Patent applications, residents   IP.PAT.RESD   \n",
       "3251865       Japan         JPN  Patent applications, residents   IP.PAT.RESD   \n",
       "3403966       Japan         JPN  Patent applications, residents   IP.PAT.RESD   \n",
       "3556745       Japan         JPN  Patent applications, residents   IP.PAT.RESD   \n",
       "3710986       Japan         JPN  Patent applications, residents   IP.PAT.RESD   \n",
       "3866642       Japan         JPN  Patent applications, residents   IP.PAT.RESD   \n",
       "4036880       Japan         JPN  Patent applications, residents   IP.PAT.RESD   \n",
       "4215149       Japan         JPN  Patent applications, residents   IP.PAT.RESD   \n",
       "4394178       Japan         JPN  Patent applications, residents   IP.PAT.RESD   \n",
       "4574442       Japan         JPN  Patent applications, residents   IP.PAT.RESD   \n",
       "4753386       Japan         JPN  Patent applications, residents   IP.PAT.RESD   \n",
       "4936593       Japan         JPN  Patent applications, residents   IP.PAT.RESD   \n",
       "5117913       Japan         JPN  Patent applications, residents   IP.PAT.RESD   \n",
       "5293459       Japan         JPN  Patent applications, residents   IP.PAT.RESD   \n",
       "5458839       Japan         JPN  Patent applications, residents   IP.PAT.RESD   \n",
       "\n",
       "         Year     Value  \n",
       "331908   1970  100513.0  \n",
       "397656   1971   78425.0  \n",
       "466676   1972  101328.0  \n",
       "536375   1973  115221.0  \n",
       "606283   1974  121509.0  \n",
       "677634   1975  135118.0  \n",
       "750517   1976  135762.0  \n",
       "825108   1977  135991.0  \n",
       "900452   1978  141517.0  \n",
       "976313   1979  150623.0  \n",
       "1055239  1980  165730.0  \n",
       "1308375  1983  227708.0  \n",
       "1393966  1984  256195.0  \n",
       "1480524  1985  274348.0  \n",
       "1568261  1986  290132.0  \n",
       "1657052  1987  310908.0  \n",
       "1746219  1988  308775.0  \n",
       "1837432  1989  317353.0  \n",
       "1942801  1990  332952.0  \n",
       "2059723  1991  335564.0  \n",
       "2177909  1992  337498.0  \n",
       "2301011  1993  331774.0  \n",
       "2425771  1994  319261.0  \n",
       "2555996  1995  333770.0  \n",
       "2691132  1996  339045.0  \n",
       "2826487  1997  349211.0  \n",
       "2963359  1998  357379.0  \n",
       "3103006  1999  357531.0  \n",
       "3251865  2000  384201.0  \n",
       "3403966  2001  382815.0  \n",
       "3556745  2002  365204.0  \n",
       "3710986  2003  358184.0  \n",
       "3866642  2004  368416.0  \n",
       "4036880  2005  367960.0  \n",
       "4215149  2006  347060.0  \n",
       "4394178  2007  333498.0  \n",
       "4574442  2008  330110.0  \n",
       "4753386  2009  295315.0  \n",
       "4936593  2010  290081.0  \n",
       "5117913  2011  287580.0  \n",
       "5293459  2012  287013.0  \n",
       "5458839  2013  271731.0  "
      ]
     },
     "execution_count": 54,
     "metadata": {},
     "output_type": "execute_result"
    }
   ],
   "source": [
    "stage_JPN_trunc"
   ]
  },
  {
   "cell_type": "markdown",
   "metadata": {},
   "source": [
    "### As 1981 and 1982 are missing in stage_JPN, lets drop it in stage2_JPN dataframe"
   ]
  },
  {
   "cell_type": "code",
   "execution_count": 55,
   "metadata": {},
   "outputs": [],
   "source": [
    "stage2_JPN_trunc = stage2_JPN.loc[~((stage2_JPN['Year']== 1981) | (stage2_JPN['Year']== 1982))]"
   ]
  },
  {
   "cell_type": "code",
   "execution_count": 56,
   "metadata": {},
   "outputs": [
    {
     "name": "stdout",
     "output_type": "stream",
     "text": [
      "42\n",
      "42\n"
     ]
    }
   ],
   "source": [
    "print(len(stage_JPN_trunc))\n",
    "print(len(stage2_JPN_trunc))"
   ]
  },
  {
   "cell_type": "code",
   "execution_count": 57,
   "metadata": {},
   "outputs": [
    {
     "data": {
      "image/png": "[encoded data removed]",
      "text/plain": [
       "<Figure size 432x288 with 1 Axes>"
      ]
     },
     "metadata": {
      "needs_background": "light"
     },
     "output_type": "display_data"
    }
   ],
   "source": [
    "%matplotlib inline\n",
    "import matplotlib.pyplot as plt\n",
    "\n",
    "fig, axis = plt.subplots()\n",
    "# Grid lines, Xticks, Xlabel, Ylabel\n",
    "\n",
    "axis.yaxis.grid(True)\n",
    "axis.set_title('Patent Applications vs. Education Expenditure in Japan',fontsize=10)\n",
    "axis.set_xlabel(stage2_JPN_trunc['IndicatorName'].iloc[0],fontsize=10)\n",
    "axis.set_ylabel(stage_JPN_trunc['IndicatorName'].iloc[0],fontsize=10)\n",
    "\n",
    "X = stage2_JPN_trunc['Value']\n",
    "Y = stage_JPN_trunc['Value']\n",
    "\n",
    "axis.scatter(X, Y)\n",
    "plt.savefig('JPN.png', dpi=200, bbox_inches='tight') \n",
    "plt.show()"
   ]
  },
  {
   "cell_type": "code",
   "execution_count": 58,
   "metadata": {},
   "outputs": [
    {
     "data": {
      "text/plain": [
       "array([[1.        , 0.85184042],\n",
       "       [0.85184042, 1.        ]])"
      ]
     },
     "execution_count": 58,
     "metadata": {},
     "output_type": "execute_result"
    }
   ],
   "source": [
    "np.corrcoef(stage2_JPN_trunc['Value'],stage_JPN_trunc['Value'])"
   ]
  },
  {
   "cell_type": "code",
   "execution_count": 59,
   "metadata": {},
   "outputs": [
    {
     "name": "stdout",
     "output_type": "stream",
     "text": [
      "Patent Min Year =  1960 max:  2013\n",
      "Education Min Year =  1970 max:  2013\n"
     ]
    }
   ],
   "source": [
    "print(\"Patent Min Year = \", stage_KOR['Year'].min(), \"max: \", stage_KOR['Year'].max())\n",
    "print(\"Education Min Year = \", stage2_KOR['Year'].min(), \"max: \", stage2_KOR['Year'].max())"
   ]
  },
  {
   "cell_type": "code",
   "execution_count": 60,
   "metadata": {},
   "outputs": [
    {
     "name": "stdout",
     "output_type": "stream",
     "text": [
      "44\n",
      "44\n"
     ]
    }
   ],
   "source": [
    "stage_KOR_trunc = stage_KOR[stage_KOR['Year'] > 1969]\n",
    "print(len(stage_KOR_trunc))\n",
    "print(len(stage2_KOR))"
   ]
  },
  {
   "cell_type": "code",
   "execution_count": 61,
   "metadata": {},
   "outputs": [
    {
     "data": {
      "image/png": "[encoded data removed]",
      "text/plain": [
       "<Figure size 432x288 with 1 Axes>"
      ]
     },
     "metadata": {
      "needs_background": "light"
     },
     "output_type": "display_data"
    }
   ],
   "source": [
    "%matplotlib inline\n",
    "import matplotlib.pyplot as plt\n",
    "\n",
    "fig, axis = plt.subplots()\n",
    "# Grid lines, Xticks, Xlabel, Ylabel\n",
    "\n",
    "axis.yaxis.grid(True)\n",
    "axis.set_title('Patent Applications vs. Education Expenditure in South Korea',fontsize=10)\n",
    "axis.set_xlabel(stage2_KOR['IndicatorName'].iloc[0],fontsize=10)\n",
    "axis.set_ylabel(stage_KOR_trunc['IndicatorName'].iloc[0],fontsize=10)\n",
    "\n",
    "X = stage2_KOR['Value']\n",
    "Y = stage_KOR_trunc['Value']\n",
    "\n",
    "axis.scatter(X, Y)\n",
    "plt.savefig('KOR.png', dpi=200, bbox_inches='tight') \n",
    "plt.show()"
   ]
  },
  {
   "cell_type": "code",
   "execution_count": 62,
   "metadata": {},
   "outputs": [
    {
     "data": {
      "text/plain": [
       "array([[1.        , 0.96592431],\n",
       "       [0.96592431, 1.        ]])"
      ]
     },
     "execution_count": 62,
     "metadata": {},
     "output_type": "execute_result"
    }
   ],
   "source": [
    "np.corrcoef(stage2_KOR['Value'],stage_KOR_trunc['Value'])"
   ]
  },
  {
   "cell_type": "code",
   "execution_count": 63,
   "metadata": {},
   "outputs": [
    {
     "name": "stdout",
     "output_type": "stream",
     "text": [
      "Patent Min Year =  1963 max:  2013\n",
      "Education Min Year =  1970 max:  2013\n"
     ]
    }
   ],
   "source": [
    "print(\"Patent Min Year = \", stage_DEU['Year'].min(), \"max: \", stage_DEU['Year'].max())\n",
    "print(\"Education Min Year = \", stage2_DEU['Year'].min(), \"max: \", stage2_DEU['Year'].max())"
   ]
  },
  {
   "cell_type": "code",
   "execution_count": 64,
   "metadata": {},
   "outputs": [
    {
     "name": "stdout",
     "output_type": "stream",
     "text": [
      "44\n",
      "44\n"
     ]
    }
   ],
   "source": [
    "stage_DEU_trunc = stage_DEU[stage_DEU['Year'] > 1969]\n",
    "print(len(stage_DEU_trunc))\n",
    "print(len(stage2_DEU))"
   ]
  },
  {
   "cell_type": "code",
   "execution_count": 65,
   "metadata": {},
   "outputs": [
    {
     "data": {
      "image/png": "[encoded data removed]",
      "text/plain": [
       "<Figure size 432x288 with 1 Axes>"
      ]
     },
     "metadata": {
      "needs_background": "light"
     },
     "output_type": "display_data"
    }
   ],
   "source": [
    "%matplotlib inline\n",
    "import matplotlib.pyplot as plt\n",
    "\n",
    "fig, axis = plt.subplots()\n",
    "# Grid lines, Xticks, Xlabel, Ylabel\n",
    "\n",
    "axis.yaxis.grid(True)\n",
    "axis.set_title('Patent Applications vs. Education Expenditure in Germany',fontsize=10)\n",
    "axis.set_xlabel(stage2_DEU['IndicatorName'].iloc[0],fontsize=10)\n",
    "axis.set_ylabel(stage_DEU_trunc['IndicatorName'].iloc[0],fontsize=10)\n",
    "\n",
    "X = stage2_DEU['Value']\n",
    "Y = stage_DEU_trunc['Value']\n",
    "\n",
    "axis.scatter(X, Y)\n",
    "plt.savefig('DEU.png', dpi=200, bbox_inches='tight') \n",
    "plt.show()"
   ]
  },
  {
   "cell_type": "code",
   "execution_count": 66,
   "metadata": {},
   "outputs": [
    {
     "data": {
      "text/plain": [
       "array([[1.        , 0.82117913],\n",
       "       [0.82117913, 1.        ]])"
      ]
     },
     "execution_count": 66,
     "metadata": {},
     "output_type": "execute_result"
    }
   ],
   "source": [
    "np.corrcoef(stage2_DEU['Value'],stage_DEU_trunc['Value'])"
   ]
  },
  {
   "cell_type": "markdown",
   "metadata": {},
   "source": [
    "The lowest corr coef is 0.82 , the largest corr coef is 0.98 from these 5 countries, we can assume that there is a postive relationship bewteen the number of patent applications and education expenditure"
   ]
  }
 ],
 "metadata": {
  "kernelspec": {
   "display_name": "Python 3",
   "language": "python",
   "name": "python3"
  },
  "language_info": {
   "codemirror_mode": {
    "name": "ipython",
    "version": 3
   },
   "file_extension": ".py",
   "mimetype": "text/x-python",
   "name": "python",
   "nbconvert_exporter": "python",
   "pygments_lexer": "ipython3",
   "version": "3.8.5"
  }
 },
 "nbformat": 4,
 "nbformat_minor": 2
}
